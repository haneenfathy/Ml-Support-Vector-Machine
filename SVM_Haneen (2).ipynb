{
 "cells": [
  {
   "cell_type": "markdown",
   "metadata": {},
   "source": [
    "# Support Vector Machines (SVM) - Hard Margin Case\n",
    "---\n",
    "Recall the binary classification problem that SVMs try to solve. The hard margin SVM finds the seperating decision bounary with the largest margin. \n",
    "\n",
    "<img src=\"MaxMargin.jpg\" height=\"400\" width=\"400\">\n",
    "\n",
    "In this assigment, you will write the code to find the maximum margin for the hard margin case.\n",
    "\n",
    "We showed in class that we could solve this problem  by reducing it to the problem of solving a quadratic programming problem (QP).  There are many solvers for quadratic programming problems. We will use the *Convex Optimization Library*, [CVXOPT](https://cvxopt.org/userguide/coneprog.html#quadratic-programming); a free software package that works well with Python and numpy. \n",
    "You will need to install [CVXOPT](https://cvxopt.org/install/)\n",
    "\n",
    "In CVXOPT, the quadratic programming problem solver, <b><i>cvxopt.solvers.qp</i></b>,  solves the following problem:\n",
    "\n",
    "$$\\begin{eqnarray} \\min_{x}\\frac{1}{2} x^{T}Px - q^{T}x \\nonumber \\\\\\ \\textrm{s.t.}\\quad Gx \\preceq h \\\\\\ \\textrm{and}\\quad Ax = b \\end{eqnarray}$$\n",
    "\n",
    " Note that $ Gx \\preceq h $ is taken elementwise. \n",
    "\n",
    "The solver's (simplified) API is `cvxopt.solvers.qp(P, q, G, h, A, b)` \n",
    "where only $P$ and $q$ are required. \n",
    "\n",
    "You will need to match the solver's API.\n",
    "\n",
    "The solver's argument's type must be CVXOPT matrices. I suggest you first create the arguments as NumpPy arrays and matrices and then convert them to CVXOPT matrices (For example, first import the library: `from cvxopt import matrix` then convert a NumPy matrix `P` to a CVXOPT matrix using ` P = matrix(P)`)\n",
    "\n",
    "What is return by the solver  is a Python dictionary.  If you save the return value in a variable called `sol` (i.e. `sol = solvers.qp(...)`), you can access to the solution of the quadratic programming problem by typing `sol[\"x\"]`.\n"
   ]
  },
  {
   "cell_type": "markdown",
   "metadata": {},
   "source": [
    "# Hard Margin Case"
   ]
  },
  {
   "cell_type": "code",
   "execution_count": 1,
   "metadata": {},
   "outputs": [
    {
     "data": {
      "image/png": "[encoded data removed]",
      "text/plain": [
       "<Figure size 432x288 with 1 Axes>"
      ]
     },
     "metadata": {
      "needs_background": "light"
     },
     "output_type": "display_data"
    }
   ],
   "source": [
    "import numpy\n",
    "import numpy as np\n",
    "import csv\n",
    "from numpy import genfromtxt\n",
    "import matplotlib.pyplot as plt\n",
    "# import sys\n",
    "# sys.path.append('C:\\Python27\\Lib\\site-packages')\n",
    "# import sys\n",
    "# sys.path.append(\"C:\\Program Files (x86)\\Python\\lib\\site-packages\\cvxopt\")\n",
    "import cvxopt\n",
    "from cvxopt import matrix \n",
    "from cvxopt import solvers \n",
    "from io import StringIO\n",
    "%matplotlib inline\n",
    "from pathlib import Path\n",
    "import numpy as np\n",
    "from sklearn.pipeline import make_pipeline\n",
    "from sklearn.preprocessing import StandardScaler\n",
    "# Use numpy function genfromtxt(…, delimiter=…) to load from files.\n",
    "file = Path.cwd() / 'X.csv'\n",
    "file_y = Path.cwd() / 'y.csv'\n",
    "X=np.genfromtxt(file,delimiter=',')\n",
    "y=np.genfromtxt(file_y,delimiter=',')\n",
    "# Store the data from “X.csv” to X and target from “y.csv” to y\n",
    "\n",
    "# Use np.where to find all index of data which y=1 and store them to idx_1\n",
    "idx_1= np.where(y==1)\n",
    "idx_2= np.where(y==-1)\n",
    "\n",
    "# same as y=-1, store them to idx_2\n",
    "\n",
    "# make the plot use plt.scatter(X[idx_1,0], X[idx_1,1], s=30, c='b', marker=\"o\")\n",
    "plt.scatter(X[idx_1,0], X[idx_1,1], c='b', marker=\"o\")\n",
    "plt.scatter(X[idx_2,0], X[idx_2,1], s=30, c='r', marker=\"o\")\n",
    "# Set the x label with x1 and y label with x2\n",
    "plt.xlabel('x1')\n",
    "plt.ylabel('x2')\n",
    "\n",
    "plt.show()"
   ]
  },
  {
   "cell_type": "markdown",
   "metadata": {},
   "source": [
    "## SVM Primal  Problem\n",
    "---\n",
    "### Problem 1.1\n",
    "![qp.png](attachment:qp.png)\n",
    "You will now use the quadratic problem solver to find the maximum margin for the SVM primal problem:\n",
    "\n",
    "$$\\begin{eqnarray}\\left.\\begin{aligned}  \n",
    "&\\min_{w}\\frac{1}{2}||w||^{2} & \\nonumber \\\\\\ \n",
    "&\\textrm{s.t.}  \\quad y^{(i)}(w^{T}{\\bf x}^{(i)} + w_0) \\ge 1 \\quad \\forall i \\end{aligned}\\right.\\end{eqnarray}$$\n",
    "\n",
    "\n",
    "Look back at the lecture notes for the primal problem.  Please note that the variable names used in the lecture are different from the variable names given to decribe the API for CVXOPT's quadratic problem solver.\n"
   ]
  },
  {
   "cell_type": "code",
   "execution_count": 2,
   "metadata": {},
   "outputs": [],
   "source": [
    "def linear_svm(X,y):\n",
    "    solvers.options['show_progress'] = False\n",
    "#     store the shape of X to two variables: N,F\n",
    "    N,F=X.shape\n",
    "#     create the Identity matrix using np.diag and np.ones\n",
    "#     I=np.eye(100)\n",
    "#     create the Q matrix using np.zeros\n",
    "    Q=np.identity(F + 1)\n",
    "    Q[0,0]=0\n",
    "#     print(Q)\n",
    "    p=cvxopt.matrix(Q)\n",
    "    q = cvxopt.matrix(np.zeros(F+1))\n",
    "    g=[]\n",
    "    for n in range(N):\n",
    "        z=np.zeros(F+1)\n",
    "        for i in range(F+1):\n",
    "            if i==0:\n",
    "                z[i]=1\n",
    "            else:\n",
    "                z[i]=X[n].T[i-1]\n",
    "        g.append(y[n]*z)\n",
    "    g=-1*np.array(g)\n",
    "    G=cvxopt.matrix(g)\n",
    "            \n",
    "#     print('G',G)\n",
    "#     print('shape of G',np.zeros((N, F + 1)).shape)\n",
    "#     for n in range(N):\n",
    "\n",
    "#         create a zero matric with size F+1\n",
    "\n",
    "#         for each element in the matric above:\n",
    "\n",
    "#             when the index=0, then set it to 1\n",
    "\n",
    "#             else, set the value to X[n].T[i-1]\n",
    "\n",
    "#         append the y[n]*updated matric to the empty list above (the one above the for loop\n",
    "\n",
    "#     change the empty list to the np array and times -1\n",
    "\n",
    "#     use cvxopt.matrix to convert above np array and store it in a variable: G\n",
    "\n",
    "#     create a variable named h with value np.ones(N)*-1 and convert it to cvxopt\n",
    "\n",
    "    h=cvxopt.matrix(np.ones(N)*-1)\n",
    "#     print('h',h)\n",
    "#     print('shape of h',np.ones(N).shape)\n",
    "\n",
    "#     solve the primal using cvxopt.solvers.qp\n",
    "\n",
    "#     return the answer.\n",
    "    sol = cvxopt.solvers.qp(p, q, G, h)\n",
    "    w = np.zeros(F,)\n",
    "    for i in range(1, F + 1):\n",
    "        w[i - 1] = sol[\"x\"][i]\n",
    "    b= np.array(sol['x'][0])\n",
    "    return w,b\n",
    "\n",
    "# fit svm classifier\n",
    "\n",
    "# print the weights"
   ]
  },
  {
   "cell_type": "code",
   "execution_count": null,
   "metadata": {},
   "outputs": [],
   "source": []
  },
  {
   "cell_type": "markdown",
   "metadata": {},
   "source": [
    "### Plotting the  decision boundary"
   ]
  },
  {
   "cell_type": "code",
   "execution_count": 7,
   "metadata": {},
   "outputs": [],
   "source": [
    "def plot_data_with_decision_boundary(X, y,w,b, fig_size=(15, 9), labels=['x1', 'x2']):\n",
    "    x = np.linspace(0,5,100)\n",
    "    \n",
    "    yplot= x*(-w[0]/w[1])+(b/-w[1])\n",
    "    plt.plot(x, yplot)\n",
    "    \n",
    "    idx_1= np.where(y==1)\n",
    "    idx_2= np.where(y==-1)\n",
    "\n",
    "# same as y=-1, store them to idx_2\n",
    "\n",
    "# make the plot use plt.scatter(X[idx_1,0], X[idx_1,1], s=30, c='b', marker=\"o\")\n",
    "    plt.scatter(X[idx_1,0], X[idx_1,1], c='b', marker=\"o\")\n",
    "    plt.scatter(X[idx_2,0], X[idx_2,1], s=30, c='r', marker=\"o\")\n",
    "# Set the x label with x1 and y label with x2\n",
    "    plt.xlabel('x1')\n",
    "    plt.ylabel('x2')\n",
    "\n",
    "    plt.show()\n",
    "    \n",
    "#     plot the dataset\n",
    "\n",
    "#     find the slope of the decision boundary\n",
    "\n",
    "#     find the intercept.\n",
    "\n",
    "#     generate several x values np.arrange()\n",
    "\n",
    "#     calculate its y values using intercept and slope\n",
    "\n",
    "#     plot a line\n",
    "\n",
    "\n",
    "# plotting the points and decision boundary using the above function   \n"
   ]
  },
  {
   "cell_type": "markdown",
   "metadata": {},
   "source": [
    "Determine which points are closest to the decision boundary. What is the functional margin of the points closest to the decision boundary?   "
   ]
  },
  {
   "cell_type": "code",
   "execution_count": 4,
   "metadata": {},
   "outputs": [],
   "source": [
    "# calculate distance from each point to the decision boundary\n",
    "# w,b=linear_svm(X,y)\n",
    "# x = np.linspace(0,5,100)\n",
    "# yplot= x*(-w[0]/w[1])+(b/-w[1])\n",
    "\n",
    "\n",
    "\n",
    "\n",
    "\n",
    "# find the nearest data points and its index.\n",
    "\n",
    "\n"
   ]
  },
  {
   "cell_type": "markdown",
   "metadata": {},
   "source": [
    "Write the decision function $f_{\\texttt{primal}}({\\bf x})$ to predict examples.  Use this function to predict the label of $(3.0, 1.5)^T$ and $(1.2, 3.0)^T$"
   ]
  },
  {
   "cell_type": "code",
   "execution_count": 5,
   "metadata": {},
   "outputs": [],
   "source": [
    "def f_primal(w,b,x1,x2,y1,y2):\n",
    "    x = np.linspace(0,5,100)\n",
    "    yplot= x*(-w[0]/w[1])+(b/-w[1])\n",
    "    plt.plot(x, yplot)\n",
    "    plt.plot(x1, y1, 'bo')\n",
    "    plt.plot(x2, y2, 'ro')\n",
    "    plt.show()\n",
    "    \n",
    "\n",
    "    #     return the predicted value using svm primal\n",
    "\n",
    "    # using f_ primal() to predict (3.0, 1.5) and (1.2, 3.0) and plot the figure."
   ]
  },
  {
   "cell_type": "code",
   "execution_count": null,
   "metadata": {},
   "outputs": [],
   "source": []
  },
  {
   "cell_type": "code",
   "execution_count": 6,
   "metadata": {},
   "outputs": [
    {
     "name": "stdout",
     "output_type": "stream",
     "text": [
      "weights [ 1.42189318 -1.58830104]\n",
      "bias 0.46118098859684725\n"
     ]
    },
    {
     "data": {
      "image/png": "[encoded data removed]",
      "text/plain": [
       "<Figure size 432x288 with 1 Axes>"
      ]
     },
     "metadata": {
      "needs_background": "light"
     },
     "output_type": "display_data"
    },
    {
     "data": {
      "image/png": "[encoded data removed]",
      "text/plain": [
       "<Figure size 432x288 with 1 Axes>"
      ]
     },
     "metadata": {
      "needs_background": "light"
     },
     "output_type": "display_data"
    },
    {
     "name": "stdout",
     "output_type": "stream",
     "text": [
      "support vector index  25  distance   0.4690918454725177   [2.11457352 1.5537852 ]\n",
      "support vector index  49  distance   0.4690918443084856   [2.51879639 1.91565724]\n",
      "support vector index  68  distance   0.46909184341306576   [1.71138733 2.45204836]\n",
      "MARGIN 0.9381836877215514\n"
     ]
    }
   ],
   "source": [
    "w,b=linear_svm(X,y)\n",
    "\n",
    "print('weights',w)\n",
    "print('bias',b)\n",
    "\n",
    "plot_data_with_decision_boundary(X, y,w,b, fig_size=(15, 9), labels=['x1', 'x2'])\n",
    "\n",
    "f_primal(w,b,3.0,1.2,1.5,3.0)\n",
    "\n",
    "N,F=X.shape\n",
    "p1=[0,0*(-w[0]/w[1])+(b/-w[1])]\n",
    "p2=[5,5*(-w[0]/w[1])+(b/-w[1])]\n",
    "p1=np.array(p1)\n",
    "p2=np.array(p2)\n",
    "for i in range(N):\n",
    "    p3=np.array(X[i])\n",
    "    d=np.abs(np.cross(p2-p1,p3-p1)/np.linalg.norm(p2-p1))\n",
    "    if d<0.5:\n",
    "        print('support vector index ',i,' distance  ',d,' ',X[i])\n",
    "        if (i==49):\n",
    "            m1=d\n",
    "        if (i==68):\n",
    "            m2=d\n",
    "        \n",
    "print('MARGIN',m1+m2) \n",
    "\n"
   ]
  },
  {
   "cell_type": "code",
   "execution_count": null,
   "metadata": {},
   "outputs": [],
   "source": []
  },
  {
   "cell_type": "markdown",
   "metadata": {},
   "source": [
    "Instructions on running program:\n",
    "1. Run last block of code to show line plotted along all points. It also displays the points (3.0, 1.5)--> blue and  (1.2, 3.0)--> red and shows weights and bias.\n",
    "2. Run the last block of code to display distances, indexes of support vectors, and margin."
   ]
  },
  {
   "cell_type": "code",
   "execution_count": null,
   "metadata": {},
   "outputs": [],
   "source": []
  },
  {
   "cell_type": "code",
   "execution_count": null,
   "metadata": {},
   "outputs": [],
   "source": []
  }
 ],
 "metadata": {
  "kernelspec": {
   "display_name": "Python 3",
   "language": "python",
   "name": "python3"
  },
  "language_info": {
   "codemirror_mode": {
    "name": "ipython",
    "version": 3
   },
   "file_extension": ".py",
   "mimetype": "text/x-python",
   "name": "python",
   "nbconvert_exporter": "python",
   "pygments_lexer": "ipython3",
   "version": "3.8.3"
  }
 },
 "nbformat": 4,
 "nbformat_minor": 2
}
